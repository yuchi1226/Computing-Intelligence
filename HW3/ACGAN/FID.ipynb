{
 "cells": [
  {
   "cell_type": "code",
   "execution_count": null,
   "metadata": {},
   "outputs": [
    {
     "name": "stdout",
     "output_type": "stream",
     "text": [
      "100%|███████████████████████████████████████| 3973/3973 [40:24<00:00,  1.64it/s]\n",
      "100%|███████████████████████████████████████████| 32/32 [00:17<00:00,  1.80it/s]\n",
      "FID:  117.68326672888227\n"
     ]
    }
   ],
   "source": [
    "import os\n",
    "import torch\n",
    "from torchvision.utils import save_image\n",
    "from torch.autograd import Variable\n",
    "import numpy as np\n",
    "import torch.nn as nn\n",
    "\n",
    "# 設定參數\n",
    "latent_dim = 100  # 潛在向量的維度\n",
    "img_size = 64     # 圖片大小\n",
    "channels = 3      # 圖片通道數 (RGB)\n",
    "\n",
    "class Generator(nn.Module):\n",
    "    def __init__(self):\n",
    "        super(Generator, self).__init__()\n",
    "        self.init_size = img_size // 4\n",
    "        self.fc = nn.Linear(latent_dim, 128 * self.init_size ** 2)\n",
    "        self.conv_blocks = nn.Sequential(\n",
    "            nn.BatchNorm2d(128),\n",
    "            nn.Upsample(scale_factor=2),\n",
    "            nn.Conv2d(128, 128, 3, stride=1, padding=1),\n",
    "            nn.BatchNorm2d(128, 0.8),\n",
    "            nn.LeakyReLU(0.2, inplace=True),\n",
    "            nn.Upsample(scale_factor=2),\n",
    "            nn.Conv2d(128, 64, 3, stride=1, padding=1),\n",
    "            nn.BatchNorm2d(64, 0.8),\n",
    "            nn.LeakyReLU(0.2, inplace=True),\n",
    "            nn.Conv2d(64, channels, 3, stride=1, padding=1),\n",
    "            nn.Tanh(),\n",
    "        )\n",
    "\n",
    "    def forward(self, noise):\n",
    "        out = self.fc(noise)\n",
    "        out = out.view(out.shape[0], 128, self.init_size, self.init_size)\n",
    "        img = self.conv_blocks(out)\n",
    "        return img\n",
    "\n",
    "# 加載訓練好的生成器模型\n",
    "generator = Generator()\n",
    "generator.load_state_dict(torch.load(\"/home/yuchi/AI/ACGAN/model/generator_25.pth\"))  # 替換為最後保存的生成器模型檔案\n",
    "generator.eval()  # 設定為推理模式\n",
    "\n",
    "cuda = False\n",
    "device = \"cpu\"\n",
    "\n",
    "# 開始生成圖片\n",
    "num_images = 500  # 生成圖片數量\n",
    "batch_size = 16   # 每批生成圖片數量\n",
    "total_batches = num_images // batch_size\n",
    "\n",
    "with torch.no_grad():  # 禁用梯度計算以提高效率\n",
    "    img_counter = 1  # 從 1 開始命名圖片\n",
    "    for batch in range(total_batches):\n",
    "        # 隨機生成潛在向量 z\n",
    "        z = torch.randn(batch_size, latent_dim, device=device)\n",
    "        \n",
    "        # 使用生成器生成圖片\n",
    "        gen_imgs = generator(z)\n",
    "        \n",
    "        # 儲存圖片\n",
    "        for i in range(batch_size):\n",
    "            save_path = os.path.join(f\"/home/yuchi/AI/ACGAN/Result/{img_counter}.jpg\")\n",
    "            save_image(gen_imgs[i], save_path, normalize=True)\n",
    "            img_counter += 1\n",
    "\n",
    "# 處理剩餘的圖片（如果 num_images 不是 batch_size 的整數倍）\n",
    "remaining = num_images % batch_size\n",
    "if remaining > 0:\n",
    "    z = torch.randn(remaining, latent_dim, device=device)\n",
    "    gen_imgs = generator(z)\n",
    "    for i in range(remaining):\n",
    "        save_path = os.path.join(f\"/home/yuchi/AI/ACGAN/Result/{img_counter}.jpg\")\n",
    "        save_image(gen_imgs[i], save_path, normalize=True)\n",
    "        img_counter += 1\n",
    "\n",
    "!python -m pytorch_fid /home/yuchi/AI/anim /home/yuchi/AI/ACGAN/Result --batch-size 16"
   ]
  }
 ],
 "metadata": {
  "kernelspec": {
   "display_name": "torch230",
   "language": "python",
   "name": "python3"
  },
  "language_info": {
   "codemirror_mode": {
    "name": "ipython",
    "version": 3
   },
   "file_extension": ".py",
   "mimetype": "text/x-python",
   "name": "python",
   "nbconvert_exporter": "python",
   "pygments_lexer": "ipython3",
   "version": "3.10.15"
  }
 },
 "nbformat": 4,
 "nbformat_minor": 2
}
