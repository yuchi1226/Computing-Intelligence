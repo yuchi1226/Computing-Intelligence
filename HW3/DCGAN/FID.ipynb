{
 "cells": [
  {
   "cell_type": "code",
   "execution_count": null,
   "metadata": {},
   "outputs": [
    {
     "name": "stdout",
     "output_type": "stream",
     "text": [
      "100%|█████████████████████████████████████| 63565/63565 [39:31<00:00, 26.80it/s]\n",
      "100%|█████████████████████████████████████████| 500/500 [00:23<00:00, 20.88it/s]\n",
      "FID:  80.27990383204934\n"
     ]
    }
   ],
   "source": [
    "import os\n",
    "import torch\n",
    "import torch.optim as optim\n",
    "import torch.nn as nn\n",
    "from matplotlib import pyplot as plt\n",
    "from torchvision import transforms\n",
    "from torchvision.utils import save_image, make_grid\n",
    "from torch.utils.data import Dataset, DataLoader\n",
    "from PIL import Image\n",
    "from tqdm import tqdm  # 导入tqdm\n",
    "\n",
    "# 定义生成器网络\n",
    "class Generator(nn.Module):\n",
    "    def __init__(self):\n",
    "        super(Generator, self).__init__()\n",
    "        self.model = nn.Sequential(\n",
    "            nn.Linear(100, 128 * 8 * 8),\n",
    "            nn.ReLU(),\n",
    "            nn.Unflatten(1, (128, 8, 8)),\n",
    "            nn.ConvTranspose2d(128, 64, 4, 2, 1),\n",
    "            nn.ReLU(),\n",
    "            nn.ConvTranspose2d(64, 32, 4, 2, 1),\n",
    "            nn.ReLU(),\n",
    "            nn.ConvTranspose2d(32, 3, 4, 2, 1),\n",
    "            nn.Tanh()\n",
    "        )\n",
    "\n",
    "    def forward(self, x):\n",
    "        return self.model(x)\n",
    "    \n",
    "output_dir = f'/home/yuchi/AI/DCGAN/Result'\n",
    "\n",
    "generator = Generator()\n",
    "# 載入模型\n",
    "generator.load_state_dict(torch.load(f\"/home/yuchi/AI/DCGAN/model/generator_20.pth\"))\n",
    "generator.eval()\n",
    "\n",
    "\n",
    "for i in range(500):\n",
    "    # Generate a batch of noise vectors\n",
    "    noise = torch.randn(1, 100)\n",
    "    # Generate an image\n",
    "    with torch.no_grad():\n",
    "        fake_image = generator(noise)\n",
    "    \n",
    "    # Scale the image back to [0, 1] range for saving\n",
    "    fake_image = (fake_image + 1) / 2\n",
    "    \n",
    "    # Save image\n",
    "    save_path = os.path.join(output_dir, f\"{i+1}.jpg\")\n",
    "    save_image(fake_image, save_path)\n",
    "\n",
    "!python -m pytorch_fid /home/yuchi/AI/anim /home/yuchi/AI/DCGAN/Result --batch-size 16"
   ]
  }
 ],
 "metadata": {
  "kernelspec": {
   "display_name": "torch230",
   "language": "python",
   "name": "python3"
  },
  "language_info": {
   "codemirror_mode": {
    "name": "ipython",
    "version": 3
   },
   "file_extension": ".py",
   "mimetype": "text/x-python",
   "name": "python",
   "nbconvert_exporter": "python",
   "pygments_lexer": "ipython3",
   "version": "3.10.15"
  }
 },
 "nbformat": 4,
 "nbformat_minor": 2
}
